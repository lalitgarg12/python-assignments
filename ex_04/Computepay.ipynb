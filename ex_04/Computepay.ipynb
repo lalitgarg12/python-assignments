{
 "cells": [
  {
   "cell_type": "markdown",
   "metadata": {},
   "source": [
    "## Calculate pay using function\n",
    "\n",
    "#### This exercise take two input variables hours and rate and function is defined to compute the pay for hours upto 40 hrs and more than 40 hrs using if statement"
   ]
  },
  {
   "cell_type": "code",
   "execution_count": 2,
   "metadata": {},
   "outputs": [
    {
     "name": "stdout",
     "output_type": "stream",
     "text": [
      "Enter Hrs: 45\n",
      "Enter rate per hour: 10.5\n",
      "498.75\n"
     ]
    }
   ],
   "source": [
    "def computepay(h,r):\n",
    "    if h > 40:\n",
    "        pay = (40 * r) + (h - 40)*r*1.5\n",
    "    else:\n",
    "        pay = h * r\n",
    "    return pay\n",
    "hrs = input(\"Enter Hrs: \")\n",
    "h = float(hrs)\n",
    "rph = input('Enter rate per hour: ')\n",
    "r = float(rph)\n",
    "p = computepay(h,r)\n",
    "print(p)\n"
   ]
  }
 ],
 "metadata": {
  "kernelspec": {
   "display_name": "Python 3",
   "language": "python",
   "name": "python3"
  },
  "language_info": {
   "codemirror_mode": {
    "name": "ipython",
    "version": 3
   },
   "file_extension": ".py",
   "mimetype": "text/x-python",
   "name": "python",
   "nbconvert_exporter": "python",
   "pygments_lexer": "ipython3",
   "version": "3.7.3"
  }
 },
 "nbformat": 4,
 "nbformat_minor": 2
}
